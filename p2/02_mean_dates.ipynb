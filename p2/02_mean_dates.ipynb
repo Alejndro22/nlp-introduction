{
 "cells": [
  {
   "cell_type": "code",
   "execution_count": 121,
   "metadata": {},
   "outputs": [],
   "source": [
    "import os \n",
    "import re\n",
    "import calendar\n",
    "import numpy as np"
   ]
  },
  {
   "cell_type": "code",
   "execution_count": 122,
   "metadata": {},
   "outputs": [],
   "source": [
    "path = \"./data/\""
   ]
  },
  {
   "cell_type": "code",
   "execution_count": 123,
   "metadata": {},
   "outputs": [],
   "source": [
    "# arrays para guardar datos\n",
    "days = np.array([], dtype=int)\n",
    "months = np.array([], dtype=int)\n",
    "years = np.array([], dtype=int)"
   ]
  },
  {
   "cell_type": "code",
   "execution_count": 124,
   "metadata": {},
   "outputs": [],
   "source": [
    "def read_txt_files(path, days, months, years):\n",
    "  with open(path, 'r', encoding='utf-8-sig') as f:\n",
    "    dates = [line.rstrip() for line in f]\n",
    "    \n",
    "    # Los paréntesis en una expresión regular delimitan un grupo de captura\n",
    "  day_regex =  r'^(0?[1-9]|[1-2][0-9]|3[0-1])(\\.|-|/)'\n",
    "  month_regex =  r'(\\.|-|/)(0?[1-9]|1[0-2]|[A-Za-z]{3,})(\\.|-|/)'\n",
    "  year_regex =  r'(\\.|-|/)(20([0-1][0-9]))$'\n",
    "  \n",
    "  for date in dates:\n",
    "    day_match  = re.search(day_regex, date)\n",
    "    day = day_match.group(1)\n",
    "    days = np.append(days, day)\n",
    "    \n",
    "    month_match = re.search(month_regex, date)\n",
    "    month = month_match.group(2)\n",
    "    \n",
    "    # Verificar si la fecha es un str de numeros, si no lo es, uso calendar\n",
    "    # para obtener su valor\n",
    "    if month.isdigit():\n",
    "      month_num  = month\n",
    "    else:\n",
    "      month_num = list(calendar.month_abbr).index(month.capitalize())\n",
    "      month_num  = f\"{month_num:02}\"\n",
    "                \n",
    "    months = np.append(months, month_num)\n",
    "    \n",
    "    year_match = re.search(year_regex, date)\n",
    "    year = year_match.group(2)\n",
    "    years = np.append(years, year)\n",
    "      \n",
    "  return days, months, years\n",
    "    "
   ]
  },
  {
   "cell_type": "code",
   "execution_count": 125,
   "metadata": {},
   "outputs": [],
   "source": [
    "for file in os.listdir(path): \n",
    "  if file.endswith(\".txt\"): \n",
    "    file_path = f\"{path}\\{file}\"\n",
    "    days, months, years = read_txt_files(file_path, days, months, years)"
   ]
  },
  {
   "cell_type": "code",
   "execution_count": 130,
   "metadata": {},
   "outputs": [
    {
     "data": {
      "text/plain": [
       "21000"
      ]
     },
     "execution_count": 130,
     "metadata": {},
     "output_type": "execute_result"
    }
   ],
   "source": [
    "days = days.astype(int)\n",
    "days.size"
   ]
  },
  {
   "cell_type": "code",
   "execution_count": 131,
   "metadata": {},
   "outputs": [
    {
     "data": {
      "text/plain": [
       "21000"
      ]
     },
     "execution_count": 131,
     "metadata": {},
     "output_type": "execute_result"
    }
   ],
   "source": [
    "months = months.astype(int)\n",
    "months.size"
   ]
  },
  {
   "cell_type": "code",
   "execution_count": 132,
   "metadata": {},
   "outputs": [
    {
     "data": {
      "text/plain": [
       "21000"
      ]
     },
     "execution_count": 132,
     "metadata": {},
     "output_type": "execute_result"
    }
   ],
   "source": [
    "years = years.astype(int)\n",
    "years.size"
   ]
  },
  {
   "cell_type": "code",
   "execution_count": 133,
   "metadata": {},
   "outputs": [
    {
     "name": "stdout",
     "output_type": "stream",
     "text": [
      "El promedio de días es: 15.62, de meses: 6.47, de años: 2016.69\n"
     ]
    }
   ],
   "source": [
    "print(\"El promedio de días es: {:.2f}, de meses: {:.2f}, de años: {:.2f}\".format(np.mean(days), np.mean(months), np.mean(years)))\n"
   ]
  },
  {
   "cell_type": "markdown",
   "metadata": {},
   "source": [
    "### **Respuesta**\n",
    "---\n",
    "El promedio de días es: 15.62, de meses: 6.47, de años: 2016.69"
   ]
  }
 ],
 "metadata": {
  "kernelspec": {
   "display_name": "base",
   "language": "python",
   "name": "python3"
  },
  "language_info": {
   "codemirror_mode": {
    "name": "ipython",
    "version": 3
   },
   "file_extension": ".py",
   "mimetype": "text/x-python",
   "name": "python",
   "nbconvert_exporter": "python",
   "pygments_lexer": "ipython3",
   "version": "3.11.5"
  }
 },
 "nbformat": 4,
 "nbformat_minor": 2
}
