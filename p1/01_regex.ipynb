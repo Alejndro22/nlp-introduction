{
 "cells": [
  {
   "cell_type": "code",
   "execution_count": 56,
   "metadata": {},
   "outputs": [],
   "source": [
    "import re"
   ]
  },
  {
   "cell_type": "markdown",
   "metadata": {},
   "source": [
    "### **Validar correo electrónico**\n",
    "---\n",
    "\n",
    "Implemente una regex para validar un correo electrónico en general. A continuación se muestran algunos ejemplos:\n",
    "\n",
    "Guate.360-porelmundo@miguate.com\n",
    "\n",
    "Miercoles3@hotmail.com\n",
    "\n",
    "Progra3.galileo@galileo.edu"
   ]
  },
  {
   "cell_type": "code",
   "execution_count": 63,
   "metadata": {},
   "outputs": [],
   "source": [
    "def is_email(text):\n",
    "  mail_regex = r'^.+@[a-zA-Z]{2,}(\\.[a-zA-Z]{2,})+$'\n",
    "  \n",
    "  if re.match(mail_regex, text):\n",
    "    return True\n",
    "  \n",
    "  return False"
   ]
  },
  {
   "cell_type": "code",
   "execution_count": 64,
   "metadata": {},
   "outputs": [
    {
     "name": "stdout",
     "output_type": "stream",
     "text": [
      "True\n",
      "False\n",
      "False\n",
      "True\n",
      "True\n",
      "True\n"
     ]
    }
   ],
   "source": [
    "# en segundo caso falta el .com o algo asi, y el tercero está mal escrito, tiene ,\n",
    "test_mail_adresses = ['24008282@galieo.edu.gt', 'correo@test', 'daqueme@email,com', \n",
    "                      'Guate.360-porelmundo@miguate.com', 'Miercoles3@hotmail.com', \n",
    "                      'Progra3.galileo@galileo.edu']\n",
    "\n",
    "for address in test_mail_adresses:\n",
    "  print(is_email(address))"
   ]
  },
  {
   "cell_type": "markdown",
   "metadata": {},
   "source": [
    "### **Validar url**\n",
    "---\n",
    "\n",
    "Implemente una regex para validar la dirección URL de una página web con los tipos de dominio (.com, .org, .edu). Note que la URL incluye el protocolo (http o https) y los símbolos (//www/). A continuación se muestran algunos ejemplos:\n",
    "\n",
    "https://www.guate360-porelmundo.com\n",
    "\n",
    "http://www.a2.net\n",
    "\n",
    "https://www.galileo.edu\n",
    "\n",
    "http://www.8.org (No valida)\n"
   ]
  },
  {
   "cell_type": "code",
   "execution_count": 59,
   "metadata": {},
   "outputs": [],
   "source": [
    "def is_url(text):\n",
    "  # Esta regex cumple con lo que dice que solo se permite .com, .edu u .org\n",
    "  url_regex_og = r'^(http|https)://www\\.[a-zA-Z][a-zA-Z0-9-]*\\.(com|edu|org)$'\n",
    "\n",
    "  # Pero en el ejemplo admite el .net, entonces usare esta nueva\n",
    "  url_regex = r'^(http|https)://www\\.[a-zA-Z][a-zA-Z0-9-]*\\.[a-zA-Z]{2,}$'\n",
    "  \n",
    "  if re.match(url_regex, text):\n",
    "    return True\n",
    "  \n",
    "  return False"
   ]
  },
  {
   "cell_type": "code",
   "execution_count": 60,
   "metadata": {},
   "outputs": [
    {
     "name": "stdout",
     "output_type": "stream",
     "text": [
      "True\n",
      "True\n",
      "True\n",
      "False\n"
     ]
    }
   ],
   "source": [
    "test_urls = ['https://www.guate360-porelmundo.com', 'http://www.a2.net',\n",
    "              'https://www.galileo.edu', 'http://www.8.org']\n",
    "\n",
    "for url in test_urls:\n",
    "  print(is_url(url))"
   ]
  },
  {
   "cell_type": "markdown",
   "metadata": {},
   "source": [
    "### **Validar MAC Address**\n",
    "---\n",
    "\n",
    "Implemente una regex para validar una MAC Address. Note que las MAC Addresses están divididas en 6 bloques de caracteres hexadecimales, es decir, que los símbolos solo pueden variar del 0 al 9 y las letras de la A a la F. A continuación se muestran algunos ejemplos:\n",
    "\n",
    "5A 6F AF 8C 9B 1D\n",
    "\n",
    "6D 6C 4D 3A EB 3F\n",
    "\n",
    "3A 7C FA C8 6D 4J (no valida por que el ultimo bloque contiene una J)\n"
   ]
  },
  {
   "cell_type": "code",
   "execution_count": 61,
   "metadata": {},
   "outputs": [],
   "source": [
    "def is_mac_address(text):\n",
    "  mac_addr_regex = r'^([A-F0-9]{2} ){5}[A-F0-9]{2}$'\n",
    "  \n",
    "  if re.match(mac_addr_regex, text):\n",
    "    return True\n",
    "  \n",
    "  return False"
   ]
  },
  {
   "cell_type": "code",
   "execution_count": 62,
   "metadata": {},
   "outputs": [
    {
     "name": "stdout",
     "output_type": "stream",
     "text": [
      "True\n",
      "True\n",
      "False\n"
     ]
    }
   ],
   "source": [
    "test_mac_addresses = ['5A 6F AF 8C 9B 1D', '6D 6C 4D 3A EB 3F', '3A 7C FA C8 6D 4J']\n",
    "\n",
    "for address in test_mac_addresses:\n",
    "  print(is_mac_address(address))"
   ]
  },
  {
   "cell_type": "markdown",
   "metadata": {},
   "source": [
    "### **Validar IPV4**\n",
    "---\n",
    "\n",
    "Implemente una regex para validar una dirección IPv4. Note que las direcciones IPv4 están divididas en 4 bloques de valores, los cuales solo pueden ir desde 0 hasta 255. Una IP donde algunos de sus bloques sea mayor a 255 no es válida. Además, tome en cuenta que cada bloque está separado por un punto. A continuación se muestran algunos ejemplos:\n",
    "\n",
    "192.16.8.1\n",
    "\n",
    "234.56.78.90\n",
    "\n",
    "1.2.3.4\n",
    "\n",
    "192.168.45.345 (no valida por que el ultimo bloque es mayor a 255)"
   ]
  },
  {
   "cell_type": "code",
   "execution_count": 81,
   "metadata": {},
   "outputs": [],
   "source": [
    "def is_ip_address(text):\n",
    "  ip_addr_regex = r'^((25[0-5]|2[0-4][0-9]|1[0-9]{2}|[1-9]?[0-9])\\.){3}(25[0-5]|2[0-4][0-9]|1[0-9]{2}|[1-9]?[0-9])$'\n",
    "  \n",
    "  if re.match(ip_addr_regex, text):\n",
    "    return True\n",
    "  \n",
    "  return False"
   ]
  },
  {
   "cell_type": "code",
   "execution_count": 83,
   "metadata": {},
   "outputs": [
    {
     "name": "stdout",
     "output_type": "stream",
     "text": [
      "True\n",
      "True\n",
      "True\n",
      "False\n"
     ]
    }
   ],
   "source": [
    "test_ip_addresses = ['192.16.8.1', '234.56.78.90', '1.2.3.4', '192.168.45.345']\n",
    "\n",
    "for address in test_ip_addresses:\n",
    "  print(is_ip_address(address))"
   ]
  },
  {
   "cell_type": "markdown",
   "metadata": {},
   "source": [
    "### **Validar fecha**\n",
    "---\n",
    "\n",
    "Implemente una regex para validar una fecha con la secuencia día-mes-año donde el día, mes y año puedan estar separados ya sea por el carácter /, el carácter - o el carácter ., notando que las fechas son válidas si los días están definidos desde el 1 al 31, el mes del 1 al 12 y el año de 2000 al 2019. También debe tomar en cuenta que los días y meses pueden estar escritos ya sea con uno o dos caracteres, por ejemplo: Enero puede escribirse como 1 o como 01.\n",
    "\n",
    "Los años también pueden expresarse ya sea con dos o con cuatro caracteres, por ejemplo: 19 o 2019 son válidos. A continuación se muestran algunos ejemplos:\n",
    "\n",
    "20/1/2019\n",
    "\n",
    "12.03.2005\n",
    "\n",
    "31-11-08\n",
    "\n",
    "1-1-2012\n",
    "\n",
    "12-12-22 (no valida, porque el año supera al 2019)."
   ]
  },
  {
   "cell_type": "code",
   "execution_count": 105,
   "metadata": {},
   "outputs": [],
   "source": [
    "def is_date(text):\n",
    "  date_regex = r'^(0?[1-9]|[1-2][0-9]|3[0-1])(\\.|-|/)(0?[1-9]|1[0-2])(\\.|-|/)(20)?([0-1][0-9])$'\n",
    "  \n",
    "  if re.match(date_regex, text):\n",
    "    return True\n",
    "  \n",
    "  return False"
   ]
  },
  {
   "cell_type": "code",
   "execution_count": 106,
   "metadata": {},
   "outputs": [
    {
     "name": "stdout",
     "output_type": "stream",
     "text": [
      "True\n",
      "True\n",
      "True\n",
      "True\n",
      "False\n"
     ]
    }
   ],
   "source": [
    "test_date = ['20/1/2019', '12.03.2005', '31-11-08', '31-11-08', '12-12-22']\n",
    "\n",
    "for date in test_date:\n",
    "  print(is_date(date))"
   ]
  }
 ],
 "metadata": {
  "kernelspec": {
   "display_name": "base",
   "language": "python",
   "name": "python3"
  },
  "language_info": {
   "codemirror_mode": {
    "name": "ipython",
    "version": 3
   },
   "file_extension": ".py",
   "mimetype": "text/x-python",
   "name": "python",
   "nbconvert_exporter": "python",
   "pygments_lexer": "ipython3",
   "version": "3.11.5"
  }
 },
 "nbformat": 4,
 "nbformat_minor": 2
}
